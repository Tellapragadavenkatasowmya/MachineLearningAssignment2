{
 "cells": [
  {
   "cell_type": "code",
   "execution_count": 2,
   "id": "e31324bb",
   "metadata": {},
   "outputs": [],
   "source": [
    "import numpy as np "
   ]
  },
  {
   "cell_type": "code",
   "execution_count": 11,
   "id": "958d35a4",
   "metadata": {},
   "outputs": [
    {
     "name": "stdout",
     "output_type": "stream",
     "text": [
      "[20  6 14 10 20 20 18  1 16  6 12 10 12  6 18]\n",
      "[[20  6 14 10 20]\n",
      " [20 18  1 16  6]\n",
      " [12 10 12  6 18]]\n",
      "(3, 5)\n"
     ]
    }
   ],
   "source": [
    "random_vector=np.random.randint(1,21,15)\n",
    "print(random_vector)\n",
    "reshaped_vector=np.reshape(random_vector,(3,5))\n",
    "print(reshaped_vector)\n",
    "print(reshaped_vector.shape)"
   ]
  },
  {
   "cell_type": "code",
   "execution_count": 12,
   "id": "88d8f480",
   "metadata": {},
   "outputs": [
    {
     "name": "stdout",
     "output_type": "stream",
     "text": [
      "[16 16 17]\n",
      "[[16]\n",
      " [16]\n",
      " [17]]\n",
      "[[ 5 13  5  0  7]\n",
      " [ 8  0 11  3  6]\n",
      " [ 5  0 16  9 16]]\n"
     ]
    }
   ],
   "source": [
    "Maximum_elements=np.amax(reshapingvector,axis=1)\n",
    "print(Maximum_elements)\n",
    "Maximum_elements=Maximum_elements[:,None]\n",
    "print(Maximum_elements)\n",
    "Array=np.where(reshapingvector==Maximum_elements,0,reshapingvector)\n",
    "print(Array)"
   ]
  },
  {
   "cell_type": "code",
   "execution_count": null,
   "id": "b6181d49",
   "metadata": {},
   "outputs": [],
   "source": []
  }
 ],
 "metadata": {
  "kernelspec": {
   "display_name": "Python 3 (ipykernel)",
   "language": "python",
   "name": "python3"
  },
  "language_info": {
   "codemirror_mode": {
    "name": "ipython",
    "version": 3
   },
   "file_extension": ".py",
   "mimetype": "text/x-python",
   "name": "python",
   "nbconvert_exporter": "python",
   "pygments_lexer": "ipython3",
   "version": "3.9.7"
  }
 },
 "nbformat": 4,
 "nbformat_minor": 5
}
